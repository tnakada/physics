{
 "cells": [
  {
   "cell_type": "markdown",
   "metadata": {},
   "source": [
    "# The Variational Quantum Eigensolver Explained #"
   ]
  },
  {
   "cell_type": "markdown",
   "metadata": {},
   "source": [
    "#### Taikan Nakada ####\n",
    "#### Dr. Brody ####\n",
    "#### Quantum Computing and Information ####\n",
    "#### 1 May 2020 ####"
   ]
  },
  {
   "cell_type": "markdown",
   "metadata": {},
   "source": [
    "## I. Introduction ##"
   ]
  },
  {
   "cell_type": "markdown",
   "metadata": {},
   "source": [
    "The advent of quantum hardware brings the potential to efficiently tackle computational problems that are unfeasible on a classical computer. Quantum mechanics has allowed physicists and chemists to model the behavior of atoms like Hydrogen and Helium extremely accurately by finding the eigenvalues of a Hermitian matrix characterizing the molecule in the ground state of the system. Notably, for quantum systems, the problem complexity increases exponentially as the Hilbert space grows, and analytical methods in solving Schrodinger's equation become intractable quickly. This fundamental challenge has been shown to be solvable using the quantum phase estimation algorithm. However, as quantum algorithms are being developed, they remain merely theoretical methods until the development of the hardware catches up. In October 2019, Google was successful in creating a 53-qubit chip, Sycamore. But even as companies like Google, IBM, Rigetti, and many other leading quantum researchers build up to a more coherent quantum infrastucture, solving the minimum eigenvalues of matrices is still a far reach with the quantum phase estimation."
   ]
  },
  {
   "cell_type": "markdown",
   "metadata": {},
   "source": [
    "## II. The Variational Principle ##"
   ]
  },
  {
   "cell_type": "markdown",
   "metadata": {},
   "source": [
    "An alternative solution was proposed by Alberto Peruzzo, at the Centre for Quantum Photonics, and his collaborators. The proposed Variational Quantum Eigensolver is able to estimate the ground state energy of a molecule with the current quantum hardware and shallow quantum circuits. \n",
    "\n",
    "The VQS exploits the variational principle:\n",
    "\n",
    "\\begin{equation}\n",
    "\\lambda_{min} \\leq  \\langle \\psi | H | \\psi \\rangle = \\langle H \\rangle\n",
    "\\end{equation}"
   ]
  },
  {
   "cell_type": "markdown",
   "metadata": {},
   "source": [
    "--------------------------------------------------------------------------------------------------------------------------"
   ]
  },
  {
   "cell_type": "markdown",
   "metadata": {},
   "source": [
    "Proof:\n",
    "The eigenfunctions of $H$ form a complete set, thus we can express $\\psi$ as a linear combination:\n",
    "\n",
    "\n",
    "\\begin{equation}\n",
    "\\psi = \\sum_n c_n \\psi_n , \\text { where }  H\\psi_n = E_n \\psi_n\n",
    "\\end{equation}\n",
    "\n",
    "Since $\\psi$ is normalized,\n",
    "\n",
    "\n",
    "\\begin{equation}\n",
    "1 = \\langle \\psi | \\psi \\rangle = \\langle \\sum_m c_m \\psi_m | \\sum_n c_n \\psi_n \\rangle = \\sum_m \\sum_n c_m^* c_n \\langle \\psi_m | \\psi_n \\rangle = \\sum_n |c_n|^2\n",
    "\\end{equation}\n",
    "\n",
    "where $\\langle \\psi_m | \\psi_n \\rangle = \\delta_{mn}$ since the eigenfunctions are orthonormal. So, the expectation of $H$ can be expressed as\n",
    "\n",
    "\n",
    "\\begin{equation}\n",
    "\\langle H \\rangle = \\langle \\sum_m c_m \\psi_m | H \\sum_n c_n \\psi_n \\rangle = \\sum_m \\sum_n c_m^* E_n c_n \\langle \\psi_m | \\psi_n \\rangle = \\sum_n E_n |c_n|^2\n",
    "\\end{equation}\n",
    "\n",
    "By definition, the ground state energy is the smallest eigenvalue, $E_{ground} \\leq E_n$, so \n",
    "\n",
    "\\begin{equation}\n",
    "E_{ground} = \\sum_n E_{ground} |c_n|^2 \\leq \\langle H \\rangle .\n",
    "\\end{equation}\n",
    "\n",
    "This holds for any $\\psi$."
   ]
  },
  {
   "cell_type": "markdown",
   "metadata": {},
   "source": [
    "--------------------------------------------------------------------------------------------------------------------------"
   ]
  },
  {
   "cell_type": "markdown",
   "metadata": {},
   "source": [
    "The variational principle is the basis for variational methods in quantum mechanics. It gives approximations of the ground state, and some excited states. The method involves choosing a \"trial wavefunction\", or an ansatz solution, depending on one or more parameters. Finding these parameter values for which the expectation value of the energy is the lowest possible is the objective. The wavefunction obtained by fixing the parameters is approximated to the ground state wavefunction, where the closeness can be characterized by, say, a Manhattan normThe expectation value of the energy of the obtained statevector is an upper bound to the ground state energy.\n",
    "\n",
    "For the case of VQS, the Hamiltonian of a system is described by the Hermitian matrix $H$, and the ground state energy of that system, $E_{ground}$, is the smallest eigenvalue associated with $H$. So arbitrary ansatz wave function $|\\psi \\rangle$ is selected as an initial guess approximating $|\\psi_{min}\\rangle$. Calculating its expectation value, $\\langle H \\rangle_{\\psi}$, and iteratively updating the wave function creates an upper bound, and thus the ground state energy of a Hamiltonian can be obtained. \n",
    "\n",
    "By  using  a  variational  algorithm,  the  approach reduces  the  requirement  for  coherent  evolution  of  the quantum  state,  making  more  efficient  and practical use  of  quantum resources available today to solve the eigenvalue problem."
   ]
  },
  {
   "cell_type": "markdown",
   "metadata": {},
   "source": [
    "## III. Variational Quantum Eigensolver ##"
   ]
  },
  {
   "cell_type": "markdown",
   "metadata": {},
   "source": [
    "Implementing a variational method on a quantum computer requires the ansatz wave function to be varied systematically for each iteration during the process of tuning the parameters to obtain $\\langle H \\rangle$. This systematic approach is done by a circuit, which is a linear transform $U(\\theta)$. Beginning with an arbitrary starting state $\\psi$, the linear operator $U(\\theta)$ acts on it to generate. $U(\\theta) |\\psi \\rangle = |\\psi (\\theta) \\rangle$. This state iteratively optimized to arrrive at the expectation value $\\langle \\psi (\\theta) | H |\\psi (\\theta) \\rangle$ to yield an approximation to the ground state energy. \n",
    "\n",
    "Though this method accomplishes its goal with the initial state chosen at random, there are various variational forms that are designed with the target in mind. There exists trial wave functions called the Unitary Coupled-Cluster Single and Double excitations variational form (UCCSD), which utilize domain specific knowledge to create ansatz that closely approximate based on known assumptions. Specifically, UCCSD was created for electronic structure calculations of particle/hole Hamiltonian and optimized wavefunction expansions for quantum chemistry applications."
   ]
  },
  {
   "cell_type": "markdown",
   "metadata": {},
   "source": [
    "A variational form is constructed to be able to generate any state depending on the number of qubits, n. So for any n, any vector $|\\psi \\rangle \\in \\mathbb{C}^{n^2}$ must be possible to represent. For the case of $n = 1$, a variational method is the linear operator \n",
    "\n",
    "$$\n",
    "\\begin{align}\n",
    "    U3(\\theta, \\phi, \\lambda) = \\begin{pmatrix}\\cos(\\frac{\\theta}{2}) & -e^{i\\lambda}\\sin(\\frac{\\theta}{2}) \\\\ e^{i\\phi}\\sin(\\frac{\\theta}{2}) & e^{i\\lambda + i\\phi}\\cos(\\frac{\\theta}{2}) \\end{pmatrix}\n",
    "\\end{align}\n",
    "$$\n",
    "\n",
    "with three parameters: $\\theta, \\phi, \\lambda$. This linear operator acting on a single qubit generates \n",
    "\n",
    "\\begin{equation}\n",
    "U 3 (\\theta, \\phi, \\lambda) |\\psi \\rangle = \\begin{pmatrix}\\cos(\\frac{\\theta}{2}) & -e^{i\\lambda}\\sin(\\frac{\\theta}{2}) \\\\ e^{i\\phi}\\sin(\\frac{\\theta}{2}) & e^{i\\lambda + i\\phi}\\cos(\\frac{\\theta}{2}) \\end{pmatrix} |\\psi \\rangle ,\n",
    "\\end{equation}\n",
    "\n",
    "which can represent any state in $\\mathbb{C}$. This state can be iteratively optimized by tuning the three parameters, and further, the parameters act independently so the parameters do not limit the optimization of $U 3 (\\theta, \\phi, \\lambda) |\\psi \\rangle$ to arrive at an upper bound for the ground state energy. \n",
    "\n",
    "For the case of $n = 2$, it is reasonable that the variational form is a more complicated linear operator to account for entanglement between the two qubits. The linear operator can be represented as the gate \n",
    "\n",
    "$\\\\\\\\$\n",
    "\n",
    "$|\\psi_0 \\rangle$\n",
    "\n",
    "$\\\\\\\\$\n",
    "\n",
    "$|\\psi_1 \\rangle$\n",
    "\n",
    "$\\\\\\\\$\n",
    "\n",
    "can be optimized similarly to the one qubit case."
   ]
  },
  {
   "cell_type": "markdown",
   "metadata": {},
   "source": [
    "Once the parameterized variational form is created, the vector must be optimized to tune the parameters to converge to the expectation value of the Hamiltonian. But on real quantum hardware, this objective function may not be an accurate representation of the variational form that needs to be optimized. Variables such as noise, and quantum errors must be taken into account when choosing an optimization technique to minimize the objective function. \n",
    "\n",
    "There exist various methods to minimize functions. Gradient descent is a strategy that arises commonly in machine learning and data science. The idea is to descend the function in the direction of the negative gradient, $\\nabla \\langle \\psi | \\vec{d}$, in small steps. But there exists a problem of choosing the correct stepsize so that it will not be too large, and not too small. Too large, and we may not converge to the global minima, and a small stepsize may increase the time it takes to converge, or it may converge at some local minima that is not our optimal solution. Since we cannot guarentee that the objective function is convex, it is not guarenteed that a global minima can be achived. Gradient descent is therefore not a recommended method to be used in the Variational Quantum Eigensolver. \n",
    "\n",
    "The recommended optimizer for VQE on a noisy objective function is the Simultaneous Perturbation Stochastic Approximation optimizer (SPSA), which approximates the gradient of the objective function by perturbing all of the parameters in a random fashion, leaving only two parameters to be tuned. And in the case that noise is not a problem, such as with Qiskit's statevector simulator, the Sequential Least Squares Programming optimizer (SLSQP) and the Constrained Optimization by Linear Approximation optimizer (COBYLA) are commonly used. Both optimizers are accessible with Qiskit Aqua as COBYLA."
   ]
  },
  {
   "cell_type": "markdown",
   "metadata": {},
   "source": [
    "## IV. Single Qubit Variational Form Example ##\n",
    "\n",
    "We can use the single qubit variational form to solve a problem similar to ground state energy estimation. Given a random probability vector $\\vec{x}$ the objective is to determine a possible parameterization for the single qubit variational form such that the output is a probability vector that is close to $\\vec{x}$. The Manhattan norm, or the 1-norm, is used to define the closeness between the two probability vectors.\n"
   ]
  },
  {
   "cell_type": "code",
   "execution_count": 10,
   "metadata": {},
   "outputs": [],
   "source": [
    "# define probability vector, the \"ansatz\" in this example\n",
    "\n",
    "import numpy as np\n",
    "np.random.seed(999999)\n",
    "target_distribution = np.random.rand(2)\n",
    "\n",
    "# We now convert the random vector into a valid probability vector\n",
    "target_distribution /= sum(target_distribution)"
   ]
  },
  {
   "cell_type": "markdown",
   "metadata": {},
   "source": [
    "With the linear operator U3, create the corresponding quantum circuit for the variational form:"
   ]
  },
  {
   "cell_type": "code",
   "execution_count": 11,
   "metadata": {},
   "outputs": [],
   "source": [
    "# import Qiskit\n",
    "from qiskit import QuantumCircuit, ClassicalRegister, QuantumRegister\n",
    "\n",
    "def get_variational_form(params):\n",
    "    \n",
    "    qr = QuantumRegister(1, name=\"q\")\n",
    "    cr = ClassicalRegister(1, name='c')\n",
    "    qc = QuantumCircuit(qr, cr)\n",
    "    \n",
    "    qc.u3(params[0], params[1], params[2], qr[0])\n",
    "    \n",
    "    qc.measure(qr, cr[0])\n",
    "    return qc"
   ]
  },
  {
   "cell_type": "markdown",
   "metadata": {},
   "source": [
    "The objective function is specified, where the input is a list of the variational form's parameters, and returns the cost associated with those parameters in order to tune."
   ]
  },
  {
   "cell_type": "code",
   "execution_count": 12,
   "metadata": {},
   "outputs": [],
   "source": [
    "from qiskit import Aer, execute\n",
    "backend = Aer.get_backend(\"qasm_simulator\")\n",
    "\n",
    "NUM_SHOTS = 10000\n",
    "\n",
    "def get_probability_distribution(counts):\n",
    "    output_distribution = [v / NUM_SHOTS for v in counts.values()]\n",
    "    \n",
    "    if len(output_distribution) == 1:\n",
    "        output_distribution.append(0)\n",
    "    return output_distribution\n",
    "\n",
    "def objective_function(params):\n",
    "    # Obtain a quantum circuit instance from the paramters\n",
    "    qc = get_variational_form(params)\n",
    "    \n",
    "    # Execute the quantum circuit to obtain the probability distribution associated with the current parameters\n",
    "    result = execute(qc, backend, shots=NUM_SHOTS).result()\n",
    "    \n",
    "    # Obtain the counts for each measured state, and convert those counts into a probability vector\n",
    "    output_distribution = get_probability_distribution(result.get_counts(qc))\n",
    "    \n",
    "    # Calculate the cost as the distance between the output distribution and the target distribution\n",
    "    cost = sum([np.abs(output_distribution[i] - target_distribution[i]) for i in range(2)])\n",
    "    \n",
    "    return cost"
   ]
  },
  {
   "cell_type": "markdown",
   "metadata": {},
   "source": [
    "Now with the parameterized variational form, we can optimize by creating an instance of the COBYLA optimizer from Qiskit Aer, and run the algorithm. There will be fluctuations between each run, and the obtained distribution might not be exactly the same as the target distribution. However, increasing the number of shots taken will increase the accuracy of the output."
   ]
  },
  {
   "cell_type": "code",
   "execution_count": 13,
   "metadata": {},
   "outputs": [
    {
     "name": "stdout",
     "output_type": "stream",
     "text": [
      "Target Distribution: [0.51357006 0.48642994]\n",
      "Obtained Distribution: [0.5126, 0.4874]\n",
      "Output Error (Manhattan Distance): 0.029459881261160836\n",
      "Parameters Found: [1.53933832 1.07532949 0.67424754]\n"
     ]
    }
   ],
   "source": [
    "from qiskit.aqua.components.optimizers import COBYLA\n",
    "\n",
    "# Initialize the COBYLA optimizer\n",
    "optimizer = COBYLA(maxiter=500, tol=0.0001)\n",
    "\n",
    "# Create the initial parameters (noting that our single qubit variational form has 3 parameters)\n",
    "params = np.random.rand(3)\n",
    "ret = optimizer.optimize(num_vars=3, objective_function=objective_function, initial_point=params)\n",
    "\n",
    "# Obtain the output distribution using the final parameters\n",
    "qc = get_variational_form(ret[0])\n",
    "counts = execute(qc, backend, shots=NUM_SHOTS).result().get_counts(qc)\n",
    "output_distribution = get_probability_distribution(counts)\n",
    "\n",
    "print(\"Target Distribution:\", target_distribution)\n",
    "print(\"Obtained Distribution:\", output_distribution)\n",
    "print(\"Output Error (Manhattan Distance):\", ret[1])\n",
    "print(\"Parameters Found:\", ret[0])\n"
   ]
  },
  {
   "cell_type": "markdown",
   "metadata": {},
   "source": [
    "## Conclusion ##\n",
    "\n",
    "The Variation Quantum Eigensolver prepares ansatz states that are defined by a polynomial set of parameters from the variational model. These ansatz can be  chosen based on knowledge of the physical system of interest. For example, when calculating the ground state energy of a molecule, the number of particles in the system is known so starting with the correct number of particles greatly reduces the number of parameters required span the space. Interestingly, the algorithm also allows ansatz to be chosen based on the device or available resources--the set of states that the device can prepare. Variational forms have been constructed for specific quantum computer architectures where the circuits are specifically tuned to maximally exploit the natively available connectivity and gates of a given quantum device. Such a variational form was used in 2017 to successfully implement VQE for the estimation of the ground state energies of molecules as large as BeH$_2$ on an IBM quantum computer. Additionally, Panagiotis's team at the center for Quantum Photonics was able to calculate  the  ground  state  molecular  energy  for  He–H+ using photonic computers. While the research of coherent quantum hardware is making a significant impact on science today, it is being far outpaced by other fields of research such as pharmaceuticals and medicine. Utilizing the Variational Quantum Eigensolver may help augment the current resources available today to accelerate research as a whole. "
   ]
  },
  {
   "cell_type": "markdown",
   "metadata": {},
   "source": [
    "### References ###\n",
    "\n",
    "Team, Qiskit. “Simulating Molecules Using VQE.” Qiskit, Data 100 at UC Berkeley, 27 Apr. 2020, qiskit.org/textbook/ch-applications/vqe-molecules.html#Introduction.\n",
    "\n",
    "“Google Reaches Quantum Computing Milestone with 53-Qubit Sycamore Chip.” SiliconANGLE, 24 Oct. 2019, siliconangle.com/2019/10/23/google-reaches-quantum-supremacy-milestone-53-qubit-sycamore-chip/.\n",
    "\n",
    "Griffiths, David J., and Darrell F. Schroeter. Introduction to quantum mechanics. Cambridge University Press, 2018.\n",
    "\n",
    "Peruzzo, Alberto, et al. \"A variational eigenvalue solver on a photonic quantum processor.\" Nature communications 5 (2014): 4213.\n"
   ]
  },
  {
   "cell_type": "markdown",
   "metadata": {},
   "source": [
    "Barkoutsos, Panagiotis Kl., et al. \"Quantum algorithms for electronic structure calculations: particle/hole Hamiltonian and optimized wavefunction expansions.\" Phys. Rev. A 98, 022322 (2018)"
   ]
  },
  {
   "cell_type": "code",
   "execution_count": null,
   "metadata": {},
   "outputs": [],
   "source": []
  }
 ],
 "metadata": {
  "kernelspec": {
   "display_name": "quantum_env",
   "language": "python",
   "name": "quantum_env"
  },
  "language_info": {
   "codemirror_mode": {
    "name": "ipython",
    "version": 3
   },
   "file_extension": ".py",
   "mimetype": "text/x-python",
   "name": "python",
   "nbconvert_exporter": "python",
   "pygments_lexer": "ipython3",
   "version": "3.7.6"
  }
 },
 "nbformat": 4,
 "nbformat_minor": 4
}
